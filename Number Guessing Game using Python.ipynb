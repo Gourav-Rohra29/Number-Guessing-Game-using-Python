{
 "cells": [
  {
   "cell_type": "code",
   "execution_count": 1,
   "metadata": {},
   "outputs": [],
   "source": [
    "import random as r"
   ]
  },
  {
   "cell_type": "code",
   "execution_count": 2,
   "metadata": {},
   "outputs": [],
   "source": [
    "num=r.randrange(100)"
   ]
  },
  {
   "cell_type": "code",
   "execution_count": 3,
   "metadata": {},
   "outputs": [],
   "source": [
    "Guess= 5  # total number of Guesses allowed is Guess +1 as it is an While loop"
   ]
  },
  {
   "cell_type": "code",
   "execution_count": null,
   "metadata": {},
   "outputs": [],
   "source": [
    "while Guess >=0:\n",
    "    your_guess=int(input(\"Enter your Guess: #\"))\n",
    "    \n",
    "    def check(x):\n",
    "        if your_guess == Guess:\n",
    "                print(\"You Won. Your Guess of the Number is correct\")\n",
    "\n",
    "        elif your_guess > Guess:\n",
    "            print(\"Try putting lower Number to win\")\n",
    "\n",
    "        else:\n",
    "            print(\"Try putting higher Number to win\")\n",
    "    if Guess>1:\n",
    "        check(num)\n",
    "    elif Guess==1:\n",
    "        check(num)\n",
    "        print(\"Last Chance\")\n",
    "    else:    \n",
    "        print(\"Won\")\n",
    "    Guess=Guess-1    "
   ]
  },
  {
   "cell_type": "code",
   "execution_count": null,
   "metadata": {},
   "outputs": [],
   "source": []
  },
  {
   "cell_type": "code",
   "execution_count": null,
   "metadata": {},
   "outputs": [],
   "source": []
  }
 ],
 "metadata": {
  "kernelspec": {
   "display_name": "Python 3",
   "language": "python",
   "name": "python3"
  },
  "language_info": {
   "codemirror_mode": {
    "name": "ipython",
    "version": 3
   },
   "file_extension": ".py",
   "mimetype": "text/x-python",
   "name": "python",
   "nbconvert_exporter": "python",
   "pygments_lexer": "ipython3",
   "version": "3.8.3"
  }
 },
 "nbformat": 4,
 "nbformat_minor": 4
}
